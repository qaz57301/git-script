{
 "cells": [
  {
   "cell_type": "markdown",
   "metadata": {},
   "source": [
    "## 多分类皮肤病预测"
   ]
  },
  {
   "cell_type": "markdown",
   "metadata": {},
   "source": [
    "### 数据预处理"
   ]
  },
  {
   "cell_type": "markdown",
   "metadata": {},
   "source": [
    "数据说明：http://archive.ics.uci.edu/ml/machine-learning-databases/dermatology/dermatology.names"
   ]
  },
  {
   "cell_type": "code",
   "execution_count": 2,
   "metadata": {},
   "outputs": [
    {
     "data": {
      "text/plain": [
       "(366, 35)"
      ]
     },
     "execution_count": 2,
     "metadata": {},
     "output_type": "execute_result"
    }
   ],
   "source": [
    "import numpy as np\n",
    "from sklearn.model_selection import train_test_split\n",
    "import xgboost as xgb\n",
    "\n",
    "#33: lambda x:int(x == '?') 将第33列?转化为1 ，对应第34列数值缩减以0开始\n",
    "data = np.loadtxt('dermatology.data.txt', delimiter=',',converters={33: lambda x: x if str(x).isdigit()  else int(x==\"?\") , 34: lambda x:int(x)-1} )\n",
    "data.shape"
   ]
  },
  {
   "cell_type": "code",
   "execution_count": 1,
   "metadata": {},
   "outputs": [
    {
     "data": {
      "text/plain": [
       "[12, 1, 16]"
      ]
     },
     "execution_count": 1,
     "metadata": {},
     "output_type": "execute_result"
    }
   ],
   "source": [
    "list1=[12,\"?\",16]\n",
    "list(map(lambda x:x if str(x).isdigit()  else int(x==\"?\") , list1))   #isdigit() 字符是否全为数字"
   ]
  },
  {
   "cell_type": "markdown",
   "metadata": {},
   "source": [
    "### 模型构建、类别预测、评估"
   ]
  },
  {
   "cell_type": "code",
   "execution_count": 3,
   "metadata": {},
   "outputs": [
    {
     "name": "stdout",
     "output_type": "stream",
     "text": [
      "[0]\ttrain-merror:0.140625\ttest-merror:0.218182\n",
      "[1]\ttrain-merror:0.054688\ttest-merror:0.054545\n",
      "[2]\ttrain-merror:0.0625\ttest-merror:0.054545\n",
      "[3]\ttrain-merror:0.027344\ttest-merror:0.045455\n",
      "[4]\ttrain-merror:0.023438\ttest-merror:0.045455\n",
      "[5]\ttrain-merror:0.023438\ttest-merror:0.045455\n",
      "[ 3.  3.  2.  5.  2.  5.  1.  0.  5.  4.  1.  0.  4.  1.  4.  0.  0.  4.\n",
      "  3.  3.  0.  1.  1.  0.  2.  2.  4.  3.  2.  2.  0.  0.  3.  1.  4.  1.\n",
      "  0.  2.  4.  1.  0.  3.  2.  3.  5.  0.  2.  2.  5.  2.  0.  3.  0.  1.\n",
      "  4.  0.  0.  0.  3.  1.  2.  3.  2.  1.  2.  5.  1.  0.  3.  1.  3.  2.\n",
      "  2.  4.  0.  0.  3.  0.  0.  0.  1.  2.  1.  2.  3.  4.  0.  4.  1.  1.\n",
      "  2.  4.  0.  1.  4.  3.  1.  0.  4.  1.  4.  1.  4.  0.  0.  2.  2.  0.\n",
      "  0.  3.]\n",
      "[[27  0  0  0  0  0]\n",
      " [ 0 19  0  1  0  0]\n",
      " [ 0  0 21  0  0  0]\n",
      " [ 0  2  0 16  0  0]\n",
      " [ 0  0  0  0 16  0]\n",
      " [ 2  0  0  0  0  6]]\n"
     ]
    }
   ],
   "source": [
    "X,Y=data[:,0:33],data[:,34]\n",
    "X_train, X_test, y_train, y_test = train_test_split(X, Y, test_size=0.3, random_state=0)\n",
    "#加载numpy的数组到DMatrix对象\n",
    "xg_train = xgb.DMatrix(X_train, label=y_train)\n",
    "xg_test = xgb.DMatrix( X_test, label=y_test)\n",
    "#1.训练模型\n",
    "# setup parameters for xgboost\n",
    "\n",
    "\n",
    "param={'booster':'gbtree',\n",
    "    'objective':  'multi:softmax',\n",
    "    'num_class':6,  #分类数\n",
    "    'max_depth':5,\n",
    "    'lambda':10,\n",
    "    'subsample':0.75,\n",
    "    'colsample_bytree':0.75,\n",
    "    'min_child_weight':2,\n",
    "    'eta': 0.1,\n",
    "    'seed':0,\n",
    "    'nthread':4,\n",
    "    'silent':1\n",
    "       }\n",
    "\n",
    "watchlist = [ (xg_train,'train'),(xg_test,'test') ]\n",
    "num_round =6\n",
    "bst = xgb.train(param, xg_train, num_round, watchlist )\n",
    "\n",
    "y_pred = bst.predict( xg_test );\n",
    "print(y_pred)\n",
    "\n",
    "#混淆矩阵\n",
    "from sklearn import metrics\n",
    "print(metrics.confusion_matrix(y_test,y_pred))\n"
   ]
  },
  {
   "cell_type": "markdown",
   "metadata": {},
   "source": [
    "### 预测概率"
   ]
  },
  {
   "cell_type": "code",
   "execution_count": 4,
   "metadata": {},
   "outputs": [
    {
     "name": "stdout",
     "output_type": "stream",
     "text": [
      "[0]\ttrain-merror:0.140625\ttest-merror:0.218182\n",
      "[1]\ttrain-merror:0.054688\ttest-merror:0.054545\n",
      "[2]\ttrain-merror:0.0625\ttest-merror:0.054545\n",
      "[3]\ttrain-merror:0.027344\ttest-merror:0.045455\n",
      "[4]\ttrain-merror:0.023438\ttest-merror:0.045455\n",
      "[5]\ttrain-merror:0.023438\ttest-merror:0.045455\n"
     ]
    },
    {
     "data": {
      "text/plain": [
       "array([[ 0.13192585,  0.19992904,  0.12990849,  0.27992001,  0.12926041,\n",
       "         0.12905619],\n",
       "       [ 0.13311026,  0.19274618,  0.13107477,  0.28243309,  0.13042088,\n",
       "         0.13021483],\n",
       "       [ 0.1266015 ,  0.1308295 ,  0.34435049,  0.15032721,  0.12404362,\n",
       "         0.12384765],\n",
       "       [ 0.14200187,  0.15211381,  0.18584228,  0.16170046,  0.13466777,\n",
       "         0.22367376],\n",
       "       [ 0.11602154,  0.19342652,  0.31557345,  0.14780322,  0.11367742,\n",
       "         0.11349782],\n",
       "       [ 0.15513898,  0.15581681,  0.13863771,  0.16388214,  0.13794607,\n",
       "         0.24857828],\n",
       "       [ 0.14926769,  0.27923754,  0.14032108,  0.15215215,  0.13962106,\n",
       "         0.13940047],\n",
       "       [ 0.37716922,  0.12665118,  0.12163164,  0.13103868,  0.12102485,\n",
       "         0.12248444],\n",
       "       [ 0.14851862,  0.19184132,  0.13272151,  0.15688868,  0.1320594 ,\n",
       "         0.23797052],\n",
       "       [ 0.13340566,  0.14245281,  0.13136566,  0.14144211,  0.32083002,\n",
       "         0.1305038 ],\n",
       "       [ 0.15652056,  0.24600515,  0.14669991,  0.15906882,  0.14596806,\n",
       "         0.14573747],\n",
       "       [ 0.376277  ,  0.13105179,  0.12134391,  0.13004088,  0.12073856,\n",
       "         0.12054782],\n",
       "       [ 0.22190264,  0.18532778,  0.10738539,  0.11643952,  0.26226383,\n",
       "         0.10668086],\n",
       "       [ 0.1398475 ,  0.27843848,  0.13770901,  0.17017747,  0.13702202,\n",
       "         0.13680553],\n",
       "       [ 0.14074703,  0.13736002,  0.13191608,  0.13675195,  0.32217431,\n",
       "         0.13105062],\n",
       "       [ 0.3790448 ,  0.12728098,  0.12223649,  0.12671752,  0.12162669,\n",
       "         0.12309352],\n",
       "       [ 0.37805393,  0.12694825,  0.12191695,  0.13065499,  0.12130874,\n",
       "         0.12111709],\n",
       "       [ 0.13873109,  0.13768229,  0.13222557,  0.13707277,  0.32293019,\n",
       "         0.13135807],\n",
       "       [ 0.13242362,  0.19691028,  0.13039865,  0.28097621,  0.12974812,\n",
       "         0.12954313],\n",
       "       [ 0.13760829,  0.21279547,  0.13550402,  0.2446492 ,  0.13482805,\n",
       "         0.13461502],\n",
       "       [ 0.37805393,  0.12694825,  0.12191695,  0.13065499,  0.12130874,\n",
       "         0.12111709],\n",
       "       [ 0.13644953,  0.29603815,  0.13436298,  0.16597518,  0.13369268,\n",
       "         0.13348147],\n",
       "       [ 0.13739002,  0.2980786 ,  0.13528909,  0.16022664,  0.13461417,\n",
       "         0.1344015 ],\n",
       "       [ 0.37716922,  0.12665118,  0.12163164,  0.13103868,  0.12102485,\n",
       "         0.12248444],\n",
       "       [ 0.12864704,  0.13294336,  0.34991428,  0.13659874,  0.12604783,\n",
       "         0.12584871],\n",
       "       [ 0.1199367 ,  0.18953557,  0.32622254,  0.12946391,  0.11751348,\n",
       "         0.11732782],\n",
       "       [ 0.13419761,  0.13759892,  0.13214549,  0.1420448 ,  0.32273462,\n",
       "         0.13127853],\n",
       "       [ 0.13616718,  0.17420727,  0.13408497,  0.2889193 ,  0.13341606,\n",
       "         0.13320526],\n",
       "       [ 0.12493544,  0.14392821,  0.33981889,  0.1466884 ,  0.12241123,\n",
       "         0.12221783],\n",
       "       [ 0.12807389,  0.13471161,  0.34835532,  0.13808487,  0.12548627,\n",
       "         0.12528801],\n",
       "       [ 0.37805393,  0.12694825,  0.12191695,  0.13065499,  0.12130874,\n",
       "         0.12111709],\n",
       "       [ 0.37246358,  0.12972365,  0.12011415,  0.12872298,  0.11951493,\n",
       "         0.12946071],\n",
       "       [ 0.13411769,  0.18663652,  0.13206682,  0.28457066,  0.13140796,\n",
       "         0.13120036],\n",
       "       [ 0.13747135,  0.29825506,  0.13536917,  0.15972957,  0.13469385,\n",
       "         0.13448106],\n",
       "       [ 0.13270244,  0.14697315,  0.13067318,  0.14069653,  0.31913885,\n",
       "         0.12981588],\n",
       "       [ 0.13747135,  0.29825506,  0.13536917,  0.15972957,  0.13469385,\n",
       "         0.13448106],\n",
       "       [ 0.27133676,  0.14181311,  0.13130806,  0.1467303 ,  0.13065301,\n",
       "         0.17815877],\n",
       "       [ 0.12148796,  0.13995665,  0.33044189,  0.17023477,  0.1190334 ,\n",
       "         0.11884534],\n",
       "       [ 0.22093579,  0.18459933,  0.10691751,  0.12021017,  0.26112112,\n",
       "         0.10621605],\n",
       "       [ 0.14298193,  0.2961463 ,  0.13441207,  0.15918796,  0.13374153,\n",
       "         0.13353023],\n",
       "       [ 0.37742946,  0.12673856,  0.12171556,  0.13043918,  0.12110835,\n",
       "         0.12256894],\n",
       "       [ 0.13358353,  0.18987601,  0.13154081,  0.28343728,  0.13088459,\n",
       "         0.1306778 ],\n",
       "       [ 0.12740673,  0.13166162,  0.34654069,  0.14492302,  0.12483259,\n",
       "         0.12463537],\n",
       "       [ 0.13572444,  0.17689231,  0.13364898,  0.28797987,  0.13298224,\n",
       "         0.13277215],\n",
       "       [ 0.15531573,  0.1572168 ,  0.14557068,  0.15647571,  0.14484447,\n",
       "         0.24057655],\n",
       "       [ 0.37742946,  0.12673856,  0.12171556,  0.13043918,  0.12110835,\n",
       "         0.12256894],\n",
       "       [ 0.12550983,  0.14458993,  0.34138119,  0.14276531,  0.12297401,\n",
       "         0.12277973],\n",
       "       [ 0.12493544,  0.14392821,  0.33981889,  0.1466884 ,  0.12241123,\n",
       "         0.12221783],\n",
       "       [ 0.15427612,  0.15495017,  0.1378666 ,  0.16853261,  0.13717882,\n",
       "         0.24719571],\n",
       "       [ 0.12807389,  0.13471161,  0.34835532,  0.13808487,  0.12548627,\n",
       "         0.12528801],\n",
       "       [ 0.3078019 ,  0.14075685,  0.13517827,  0.14563301,  0.1345039 ,\n",
       "         0.13612604],\n",
       "       [ 0.13358353,  0.18987601,  0.13154081,  0.28343728,  0.13088459,\n",
       "         0.1306778 ],\n",
       "       [ 0.37384754,  0.13020566,  0.12056044,  0.13565788,  0.119959  ,\n",
       "         0.11976949],\n",
       "       [ 0.13904789,  0.30167547,  0.1369216 ,  0.15009321,  0.13623855,\n",
       "         0.1360233 ],\n",
       "       [ 0.13403109,  0.13742816,  0.13198152,  0.14310946,  0.32233414,\n",
       "         0.13111563],\n",
       "       [ 0.37967467,  0.12749249,  0.12243961,  0.12692809,  0.12182879,\n",
       "         0.12163632],\n",
       "       [ 0.37579244,  0.12618886,  0.12118765,  0.12563023,  0.12058308,\n",
       "         0.13061775],\n",
       "       [ 0.37742946,  0.12673856,  0.12171556,  0.13043918,  0.12110835,\n",
       "         0.12256894],\n",
       "       [ 0.13138989,  0.20317942,  0.12938072,  0.27878281,  0.12873527,\n",
       "         0.12853189],\n",
       "       [ 0.14661737,  0.27885291,  0.1378296 ,  0.16263278,  0.13714202,\n",
       "         0.13692535],\n",
       "       [ 0.12294815,  0.15754531,  0.33441359,  0.1443551 ,  0.12046409,\n",
       "         0.12027378],\n",
       "       [ 0.13616718,  0.17420727,  0.13408497,  0.2889193 ,  0.13341606,\n",
       "         0.13320526],\n",
       "       [ 0.13764557,  0.15857056,  0.2726562 ,  0.16161156,  0.13486458,\n",
       "         0.1346515 ],\n",
       "       [ 0.14280258,  0.27983016,  0.14061889,  0.15713467,  0.13991737,\n",
       "         0.13969633],\n",
       "       [ 0.12786561,  0.13213582,  0.34778881,  0.14184332,  0.1252822 ,\n",
       "         0.12508427],\n",
       "       [ 0.15320322,  0.16281034,  0.15086049,  0.17833057,  0.15010789,\n",
       "         0.20468751],\n",
       "       [ 0.13739002,  0.2980786 ,  0.13528909,  0.16022664,  0.13461417,\n",
       "         0.1344015 ],\n",
       "       [ 0.27630699,  0.13095856,  0.12134655,  0.13307153,  0.1207412 ,\n",
       "         0.21757515],\n",
       "       [ 0.13358353,  0.18987601,  0.13154081,  0.28343728,  0.13088459,\n",
       "         0.1306778 ],\n",
       "       [ 0.14453521,  0.2542516 ,  0.14232503,  0.17588185,  0.14161502,\n",
       "         0.14139128],\n",
       "       [ 0.13832816,  0.20569019,  0.1362129 ,  0.24891607,  0.13553338,\n",
       "         0.13531925],\n",
       "       [ 0.12550983,  0.14458993,  0.34138119,  0.14276531,  0.12297401,\n",
       "         0.12277973],\n",
       "       [ 0.12864704,  0.13294336,  0.34991428,  0.13659874,  0.12604783,\n",
       "         0.12584871],\n",
       "       [ 0.13340566,  0.14245281,  0.13136566,  0.14144211,  0.32083002,\n",
       "         0.1305038 ],\n",
       "       [ 0.37742946,  0.12673856,  0.12171556,  0.13043918,  0.12110835,\n",
       "         0.12256894],\n",
       "       [ 0.37716922,  0.12665118,  0.12163164,  0.13103868,  0.12102485,\n",
       "         0.12248444],\n",
       "       [ 0.13616718,  0.17420727,  0.13408497,  0.2889193 ,  0.13341606,\n",
       "         0.13320526],\n",
       "       [ 0.37742946,  0.12673856,  0.12171556,  0.13043918,  0.12110835,\n",
       "         0.12256894],\n",
       "       [ 0.37716922,  0.12665118,  0.12163164,  0.13103868,  0.12102485,\n",
       "         0.12248444],\n",
       "       [ 0.37805393,  0.12694825,  0.12191695,  0.13065499,  0.12130874,\n",
       "         0.12111709],\n",
       "       [ 0.20881301,  0.25097513,  0.13081038,  0.14929152,  0.1301578 ,\n",
       "         0.12995216],\n",
       "       [ 0.12493544,  0.14392821,  0.33981889,  0.1466884 ,  0.12241123,\n",
       "         0.12221783],\n",
       "       [ 0.13904789,  0.30167547,  0.1369216 ,  0.15009321,  0.13623855,\n",
       "         0.1360233 ],\n",
       "       [ 0.12739617,  0.13399878,  0.34651199,  0.14264576,  0.12482224,\n",
       "         0.12462504],\n",
       "       [ 0.14088582,  0.14559087,  0.13873143,  0.29893127,  0.13803935,\n",
       "         0.13782126],\n",
       "       [ 0.13340566,  0.14245281,  0.13136566,  0.14144211,  0.32083002,\n",
       "         0.1305038 ],\n",
       "       [ 0.37805393,  0.12694825,  0.12191695,  0.13065499,  0.12130874,\n",
       "         0.12111709],\n",
       "       [ 0.12977688,  0.1591379 ,  0.12779237,  0.14423576,  0.31210312,\n",
       "         0.12695396],\n",
       "       [ 0.14261661,  0.2394658 ,  0.14043577,  0.19823222,  0.13973518,\n",
       "         0.1395144 ],\n",
       "       [ 0.14234596,  0.26554734,  0.14016926,  0.1732178 ,  0.13947   ,\n",
       "         0.13924965],\n",
       "       [ 0.12583831,  0.13236016,  0.34227464,  0.15312997,  0.12329585,\n",
       "         0.12310106],\n",
       "       [ 0.18748325,  0.13340952,  0.12302621,  0.13339908,  0.30046287,\n",
       "         0.12221906],\n",
       "       [ 0.37728065,  0.12668858,  0.12166757,  0.13078195,  0.12106061,\n",
       "         0.12252062],\n",
       "       [ 0.13904789,  0.30167547,  0.1369216 ,  0.15009321,  0.13623855,\n",
       "         0.1360233 ],\n",
       "       [ 0.13270244,  0.14697315,  0.13067318,  0.14069653,  0.31913885,\n",
       "         0.12981588],\n",
       "       [ 0.13778511,  0.20880857,  0.13567816,  0.24793887,  0.13500129,\n",
       "         0.13478801],\n",
       "       [ 0.13904789,  0.30167547,  0.1369216 ,  0.15009321,  0.13623855,\n",
       "         0.1360233 ],\n",
       "       [ 0.37716922,  0.12665118,  0.12163164,  0.13103868,  0.12102485,\n",
       "         0.12248444],\n",
       "       [ 0.1400315 ,  0.14174548,  0.13124543,  0.13605672,  0.32053643,\n",
       "         0.13038437],\n",
       "       [ 0.14298193,  0.2961463 ,  0.13441207,  0.15918796,  0.13374153,\n",
       "         0.13353023],\n",
       "       [ 0.13487943,  0.13829802,  0.1328169 ,  0.13768578,  0.32437435,\n",
       "         0.13194552],\n",
       "       [ 0.14235564,  0.27270937,  0.14017878,  0.16601764,  0.13947947,\n",
       "         0.1392591 ],\n",
       "       [ 0.14074703,  0.13736002,  0.13191608,  0.13675195,  0.32217431,\n",
       "         0.13105062],\n",
       "       [ 0.37716922,  0.12665118,  0.12163164,  0.13103868,  0.12102485,\n",
       "         0.12248444],\n",
       "       [ 0.37716922,  0.12665118,  0.12163164,  0.13103868,  0.12102485,\n",
       "         0.12248444],\n",
       "       [ 0.12493544,  0.14392821,  0.33981889,  0.1466884 ,  0.12241123,\n",
       "         0.12221783],\n",
       "       [ 0.12740673,  0.13166162,  0.34654069,  0.14492302,  0.12483259,\n",
       "         0.12463537],\n",
       "       [ 0.37716922,  0.12665118,  0.12163164,  0.13103868,  0.12102485,\n",
       "         0.12248444],\n",
       "       [ 0.376277  ,  0.13105179,  0.12134391,  0.13004088,  0.12073856,\n",
       "         0.12054782],\n",
       "       [ 0.13358353,  0.18987601,  0.13154081,  0.28343728,  0.13088459,\n",
       "         0.1306778 ]], dtype=float32)"
      ]
     },
     "execution_count": 4,
     "metadata": {},
     "output_type": "execute_result"
    }
   ],
   "source": [
    "param['objective'] = 'multi:softprob'    # p\n",
    "bst = xgb.train(param, xg_train, num_round, watchlist )\n",
    "yprob = bst.predict( xg_test ).reshape( y_test.shape[0], 6 )    #将每一组的预测转化为在一个array中\n",
    "yprob"
   ]
  },
  {
   "cell_type": "code",
   "execution_count": 5,
   "metadata": {},
   "outputs": [
    {
     "data": {
      "text/plain": [
       "array([[0, 1],\n",
       "       [2, 3],\n",
       "       [4, 5]])"
      ]
     },
     "execution_count": 5,
     "metadata": {},
     "output_type": "execute_result"
    }
   ],
   "source": [
    "a = np.arange(6).reshape((3, 2))\n",
    "a"
   ]
  },
  {
   "cell_type": "markdown",
   "metadata": {},
   "source": [
    "### 类别转化概率"
   ]
  },
  {
   "cell_type": "code",
   "execution_count": 7,
   "metadata": {},
   "outputs": [
    {
     "data": {
      "text/plain": [
       "array([3, 3, 2, 5, 2, 5, 1, 0, 5, 4, 1, 0, 4, 1, 4, 0, 0, 4, 3, 3, 0, 1, 1,\n",
       "       0, 2, 2, 4, 3, 2, 2, 0, 0, 3, 1, 4, 1, 0, 2, 4, 1, 0, 3, 2, 3, 5, 0,\n",
       "       2, 2, 5, 2, 0, 3, 0, 1, 4, 0, 0, 0, 3, 1, 2, 3, 2, 1, 2, 5, 1, 0, 3,\n",
       "       1, 3, 2, 2, 4, 0, 0, 3, 0, 0, 0, 1, 2, 1, 2, 3, 4, 0, 4, 1, 1, 2, 4,\n",
       "       0, 1, 4, 3, 1, 0, 4, 1, 4, 1, 4, 0, 0, 2, 2, 0, 0, 3], dtype=int64)"
      ]
     },
     "execution_count": 7,
     "metadata": {},
     "output_type": "execute_result"
    }
   ],
   "source": [
    "#从预测的6组中选择最大的概率进行输出\n",
    "ylabel = np.argmax(yprob, axis=1)  # return the index of the biggest pro\n",
    "ylabel"
   ]
  },
  {
   "cell_type": "markdown",
   "metadata": {},
   "source": [
    "### 模型评估"
   ]
  },
  {
   "cell_type": "code",
   "execution_count": 8,
   "metadata": {},
   "outputs": [
    {
     "name": "stdout",
     "output_type": "stream",
     "text": [
      "ACC: 0.9545\n",
      "[[27  0  0  0  0  0]\n",
      " [ 0 19  0  1  0  0]\n",
      " [ 0  0 21  0  0  0]\n",
      " [ 0  2  0 16  0  0]\n",
      " [ 0  0  0  0 16  0]\n",
      " [ 2  0  0  0  0  6]]\n"
     ]
    }
   ],
   "source": [
    "from sklearn import metrics\n",
    "print ('ACC: %.4f' % metrics.accuracy_score(y_test,ylabel))\n",
    "print(metrics.confusion_matrix(y_test,ylabel))"
   ]
  },
  {
   "cell_type": "markdown",
   "metadata": {},
   "source": [
    "### 特征重要度"
   ]
  },
  {
   "cell_type": "code",
   "execution_count": 9,
   "metadata": {},
   "outputs": [
    {
     "data": {
      "image/png": "[encoded data removed]",
      "text/plain": [
       "<matplotlib.figure.Figure at 0x1e750c2b860>"
      ]
     },
     "metadata": {},
     "output_type": "display_data"
    }
   ],
   "source": [
    "import matplotlib.pyplot as plt\n",
    "from xgboost import plot_importance\n",
    "# 显示重要特征\n",
    "plot_importance(bst)\n",
    "plt.show()"
   ]
  },
  {
   "cell_type": "code",
   "execution_count": 10,
   "metadata": {},
   "outputs": [
    {
     "data": {
      "text/plain": [
       "[1, 6, 11, 16, 21]"
      ]
     },
     "execution_count": 10,
     "metadata": {},
     "output_type": "execute_result"
    }
   ],
   "source": [
    "[i for i in range(1,25,5)]"
   ]
  },
  {
   "cell_type": "code",
   "execution_count": 11,
   "metadata": {},
   "outputs": [
    {
     "name": "stdout",
     "output_type": "stream",
     "text": [
      "Fitting 5 folds for each of 25 candidates, totalling 125 fits\n"
     ]
    },
    {
     "name": "stderr",
     "output_type": "stream",
     "text": [
      "[Parallel(n_jobs=4)]: Done  42 tasks      | elapsed:  1.2min\n",
      "[Parallel(n_jobs=4)]: Done 125 out of 125 | elapsed:  2.7min finished\n"
     ]
    },
    {
     "name": "stdout",
     "output_type": "stream",
     "text": [
      "每轮迭代运行结果:[mean: 0.92078, std: 0.05712, params: {'min_child_weight': 1, 'n_estimators': 400}, mean: 0.92078, std: 0.05712, params: {'min_child_weight': 1, 'n_estimators': 500}, mean: 0.92078, std: 0.05712, params: {'min_child_weight': 1, 'n_estimators': 600}, mean: 0.92078, std: 0.05712, params: {'min_child_weight': 1, 'n_estimators': 700}, mean: 0.92078, std: 0.05712, params: {'min_child_weight': 1, 'n_estimators': 800}, mean: 0.95734, std: 0.03797, params: {'min_child_weight': 3, 'n_estimators': 400}, mean: 0.93191, std: 0.05250, params: {'min_child_weight': 3, 'n_estimators': 500}, mean: 0.92714, std: 0.05665, params: {'min_child_weight': 3, 'n_estimators': 600}, mean: 0.92555, std: 0.05833, params: {'min_child_weight': 3, 'n_estimators': 700}, mean: 0.92714, std: 0.05665, params: {'min_child_weight': 3, 'n_estimators': 800}, mean: 0.90514, std: 0.08243, params: {'min_child_weight': 5, 'n_estimators': 400}, mean: 0.90514, std: 0.08243, params: {'min_child_weight': 5, 'n_estimators': 500}, mean: 0.90037, std: 0.08405, params: {'min_child_weight': 5, 'n_estimators': 600}, mean: 0.90514, std: 0.08243, params: {'min_child_weight': 5, 'n_estimators': 700}, mean: 0.90514, std: 0.08243, params: {'min_child_weight': 5, 'n_estimators': 800}, mean: 0.87852, std: 0.09563, params: {'min_child_weight': 7, 'n_estimators': 400}, mean: 0.87852, std: 0.09563, params: {'min_child_weight': 7, 'n_estimators': 500}, mean: 0.86021, std: 0.08970, params: {'min_child_weight': 7, 'n_estimators': 600}, mean: 0.87852, std: 0.09563, params: {'min_child_weight': 7, 'n_estimators': 700}, mean: 0.87852, std: 0.09563, params: {'min_child_weight': 7, 'n_estimators': 800}, mean: 0.74157, std: 0.05081, params: {'min_child_weight': 9, 'n_estimators': 400}, mean: 0.74157, std: 0.05081, params: {'min_child_weight': 9, 'n_estimators': 500}, mean: 0.74157, std: 0.05081, params: {'min_child_weight': 9, 'n_estimators': 600}, mean: 0.74157, std: 0.05081, params: {'min_child_weight': 9, 'n_estimators': 700}, mean: 0.78448, std: 0.08659, params: {'min_child_weight': 9, 'n_estimators': 800}]\n",
      "参数的最佳取值：{'min_child_weight': 3, 'n_estimators': 400}\n"
     ]
    },
    {
     "name": "stderr",
     "output_type": "stream",
     "text": [
      "F:\\Anaconda3\\Ana3.5.1\\lib\\site-packages\\sklearn\\model_selection\\_search.py:761: DeprecationWarning: The grid_scores_ attribute was deprecated in version 0.18 in favor of the more elaborate cv_results_ attribute. The grid_scores_ attribute will not be available from 0.20\n",
      "  DeprecationWarning)\n"
     ]
    }
   ],
   "source": [
    "from sklearn.model_selection import GridSearchCV\n",
    "\n",
    "# cv_params = {'n_estimators': [400, 500, 600, 700, 800]}\n",
    "cv_params = {'min_child_weight': range(1,10,2),'n_estimators':[400,500, 600, 700, 800]}\n",
    "\n",
    "other_params ={\n",
    "    'booster':'gbtree',\n",
    "    'objective':  'multi:softmax',\n",
    "    'subsample':0.75,\n",
    "    'lambda':1,\n",
    "    'max_depth':5,\n",
    "    'colsample_bytree':0.75,\n",
    "    'min_child_weight':2,\n",
    "    'eta': 0.025,\n",
    "    'seed':0,\n",
    "    'nthread':8,\n",
    "     'silent':1\n",
    "}\n",
    "model = xgb.XGBClassifier(**other_params)    #**不能省略,不定长传参\n",
    "optimized_GBM = GridSearchCV(estimator=model, param_grid=cv_params, scoring='r2', cv=5, verbose=1, n_jobs=4)\n",
    "optimized_GBM.fit(X_train, y_train)\n",
    "evalute_result = optimized_GBM.grid_scores_\n",
    "print('每轮迭代运行结果:{0}'.format(evalute_result))\n",
    "print('参数的最佳取值：{0}'.format(optimized_GBM.best_params_))\n",
    "# print('最佳模型得分:{0}'.format(optimized_GBM.best_score_))"
   ]
  },
  {
   "cell_type": "code",
   "execution_count": null,
   "metadata": {
    "collapsed": true
   },
   "outputs": [],
   "source": [
    "QQ:595454159"
   ]
  }
 ],
 "metadata": {
  "kernelspec": {
   "display_name": "Python 3",
   "language": "python",
   "name": "python3"
  },
  "language_info": {
   "codemirror_mode": {
    "name": "ipython",
    "version": 3
   },
   "file_extension": ".py",
   "mimetype": "text/x-python",
   "name": "python",
   "nbconvert_exporter": "python",
   "pygments_lexer": "ipython3",
   "version": "3.6.5"
  }
 },
 "nbformat": 4,
 "nbformat_minor": 2
}
